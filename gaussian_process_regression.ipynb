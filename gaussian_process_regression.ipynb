{
 "cells": [
  {
   "cell_type": "code",
   "execution_count": 1,
   "metadata": {},
   "outputs": [],
   "source": [
    "%matplotlib inline\n",
    "from matplotlib import pyplot as plt\n",
    "import seaborn as sns\n",
    "\n",
    "import numpy as np\n",
    "import pandas as pd\n",
    "from os import path"
   ]
  },
  {
   "cell_type": "code",
   "execution_count": 2,
   "metadata": {},
   "outputs": [],
   "source": [
    "folder_path = path.join('.','data')"
   ]
  },
  {
   "cell_type": "code",
   "execution_count": 3,
   "metadata": {},
   "outputs": [],
   "source": [
    "doe = pd.read_excel(path.join(folder_path, 'doe_lhsmu_locked.xlsx'),\n",
    "                    header = 0, usecols = 'A:J')"
   ]
  },
  {
   "cell_type": "code",
   "execution_count": 4,
   "metadata": {},
   "outputs": [
    {
     "data": {
      "text/html": [
       "<div>\n",
       "<style scoped>\n",
       "    .dataframe tbody tr th:only-of-type {\n",
       "        vertical-align: middle;\n",
       "    }\n",
       "\n",
       "    .dataframe tbody tr th {\n",
       "        vertical-align: top;\n",
       "    }\n",
       "\n",
       "    .dataframe thead th {\n",
       "        text-align: right;\n",
       "    }\n",
       "</style>\n",
       "<table border=\"1\" class=\"dataframe\">\n",
       "  <thead>\n",
       "    <tr style=\"text-align: right;\">\n",
       "      <th></th>\n",
       "      <th>batch</th>\n",
       "      <th>layer_thickness</th>\n",
       "      <th>Oscillator</th>\n",
       "      <th>Recoat Speed</th>\n",
       "      <th>roller_speed</th>\n",
       "      <th>roller_rpm</th>\n",
       "      <th>drying speed</th>\n",
       "      <th>drying_power</th>\n",
       "      <th>saturation</th>\n",
       "      <th>binder_set_time</th>\n",
       "    </tr>\n",
       "  </thead>\n",
       "  <tbody>\n",
       "    <tr>\n",
       "      <th>0</th>\n",
       "      <td>1</td>\n",
       "      <td>170.950131</td>\n",
       "      <td>1967.331486</td>\n",
       "      <td>78.906433</td>\n",
       "      <td>4.325408</td>\n",
       "      <td>195.740100</td>\n",
       "      <td>8.975193</td>\n",
       "      <td>57.789017</td>\n",
       "      <td>59.215849</td>\n",
       "      <td>4.682984</td>\n",
       "    </tr>\n",
       "    <tr>\n",
       "      <th>1</th>\n",
       "      <td>2</td>\n",
       "      <td>218.833816</td>\n",
       "      <td>2059.599336</td>\n",
       "      <td>61.607811</td>\n",
       "      <td>3.001314</td>\n",
       "      <td>277.268534</td>\n",
       "      <td>16.391061</td>\n",
       "      <td>59.744374</td>\n",
       "      <td>89.594092</td>\n",
       "      <td>9.374743</td>\n",
       "    </tr>\n",
       "    <tr>\n",
       "      <th>2</th>\n",
       "      <td>3</td>\n",
       "      <td>129.909640</td>\n",
       "      <td>1937.495407</td>\n",
       "      <td>43.603111</td>\n",
       "      <td>5.855950</td>\n",
       "      <td>169.602720</td>\n",
       "      <td>19.940300</td>\n",
       "      <td>39.618434</td>\n",
       "      <td>80.671603</td>\n",
       "      <td>8.926232</td>\n",
       "    </tr>\n",
       "    <tr>\n",
       "      <th>3</th>\n",
       "      <td>4</td>\n",
       "      <td>141.806415</td>\n",
       "      <td>1871.663699</td>\n",
       "      <td>90.385153</td>\n",
       "      <td>17.915776</td>\n",
       "      <td>160.335560</td>\n",
       "      <td>11.752588</td>\n",
       "      <td>71.820288</td>\n",
       "      <td>91.839952</td>\n",
       "      <td>9.035047</td>\n",
       "    </tr>\n",
       "    <tr>\n",
       "      <th>4</th>\n",
       "      <td>5</td>\n",
       "      <td>125.986854</td>\n",
       "      <td>2112.279386</td>\n",
       "      <td>52.067637</td>\n",
       "      <td>11.647734</td>\n",
       "      <td>265.095430</td>\n",
       "      <td>17.432956</td>\n",
       "      <td>57.658267</td>\n",
       "      <td>67.618446</td>\n",
       "      <td>5.008873</td>\n",
       "    </tr>\n",
       "  </tbody>\n",
       "</table>\n",
       "</div>"
      ],
      "text/plain": [
       "   batch  layer_thickness   Oscillator  Recoat Speed  roller_speed  \\\n",
       "0      1       170.950131  1967.331486     78.906433      4.325408   \n",
       "1      2       218.833816  2059.599336     61.607811      3.001314   \n",
       "2      3       129.909640  1937.495407     43.603111      5.855950   \n",
       "3      4       141.806415  1871.663699     90.385153     17.915776   \n",
       "4      5       125.986854  2112.279386     52.067637     11.647734   \n",
       "\n",
       "   roller_rpm  drying speed  drying_power  saturation  binder_set_time  \n",
       "0  195.740100      8.975193     57.789017   59.215849         4.682984  \n",
       "1  277.268534     16.391061     59.744374   89.594092         9.374743  \n",
       "2  169.602720     19.940300     39.618434   80.671603         8.926232  \n",
       "3  160.335560     11.752588     71.820288   91.839952         9.035047  \n",
       "4  265.095430     17.432956     57.658267   67.618446         5.008873  "
      ]
     },
     "execution_count": 4,
     "metadata": {},
     "output_type": "execute_result"
    }
   ],
   "source": [
    "doe.head()"
   ]
  },
  {
   "cell_type": "code",
   "execution_count": 5,
   "metadata": {},
   "outputs": [],
   "source": [
    "sample_dimension = pd.read_excel(path.join(folder_path, 'process_map_data.xlsx'),\n",
    "                                 header = 0, usecols = 'A:E')"
   ]
  },
  {
   "cell_type": "code",
   "execution_count": 6,
   "metadata": {},
   "outputs": [
    {
     "data": {
      "text/html": [
       "<div>\n",
       "<style scoped>\n",
       "    .dataframe tbody tr th:only-of-type {\n",
       "        vertical-align: middle;\n",
       "    }\n",
       "\n",
       "    .dataframe tbody tr th {\n",
       "        vertical-align: top;\n",
       "    }\n",
       "\n",
       "    .dataframe thead th {\n",
       "        text-align: right;\n",
       "    }\n",
       "</style>\n",
       "<table border=\"1\" class=\"dataframe\">\n",
       "  <thead>\n",
       "    <tr style=\"text-align: right;\">\n",
       "      <th></th>\n",
       "      <th>batch</th>\n",
       "      <th>id</th>\n",
       "      <th>x</th>\n",
       "      <th>y</th>\n",
       "      <th>z</th>\n",
       "    </tr>\n",
       "  </thead>\n",
       "  <tbody>\n",
       "    <tr>\n",
       "      <th>0</th>\n",
       "      <td>1</td>\n",
       "      <td>1</td>\n",
       "      <td>20.47</td>\n",
       "      <td>15.45</td>\n",
       "      <td>10.49</td>\n",
       "    </tr>\n",
       "    <tr>\n",
       "      <th>1</th>\n",
       "      <td>1</td>\n",
       "      <td>1</td>\n",
       "      <td>20.41</td>\n",
       "      <td>15.29</td>\n",
       "      <td>10.37</td>\n",
       "    </tr>\n",
       "    <tr>\n",
       "      <th>2</th>\n",
       "      <td>1</td>\n",
       "      <td>1</td>\n",
       "      <td>20.68</td>\n",
       "      <td>15.52</td>\n",
       "      <td>10.46</td>\n",
       "    </tr>\n",
       "    <tr>\n",
       "      <th>3</th>\n",
       "      <td>1</td>\n",
       "      <td>2</td>\n",
       "      <td>20.37</td>\n",
       "      <td>15.46</td>\n",
       "      <td>10.34</td>\n",
       "    </tr>\n",
       "    <tr>\n",
       "      <th>4</th>\n",
       "      <td>1</td>\n",
       "      <td>2</td>\n",
       "      <td>20.31</td>\n",
       "      <td>15.48</td>\n",
       "      <td>10.32</td>\n",
       "    </tr>\n",
       "  </tbody>\n",
       "</table>\n",
       "</div>"
      ],
      "text/plain": [
       "   batch  id      x      y      z\n",
       "0      1   1  20.47  15.45  10.49\n",
       "1      1   1  20.41  15.29  10.37\n",
       "2      1   1  20.68  15.52  10.46\n",
       "3      1   2  20.37  15.46  10.34\n",
       "4      1   2  20.31  15.48  10.32"
      ]
     },
     "execution_count": 6,
     "metadata": {},
     "output_type": "execute_result"
    }
   ],
   "source": [
    "sample_dimension.head()"
   ]
  },
  {
   "cell_type": "code",
   "execution_count": 7,
   "metadata": {},
   "outputs": [],
   "source": [
    "archimedes = pd.read_excel(path.join(folder_path, 'process_map_data_archimedes.xlsx'),\n",
    "                                 header = 0, usecols = 'A:F')"
   ]
  },
  {
   "cell_type": "code",
   "execution_count": 8,
   "metadata": {},
   "outputs": [
    {
     "data": {
      "text/html": [
       "<div>\n",
       "<style scoped>\n",
       "    .dataframe tbody tr th:only-of-type {\n",
       "        vertical-align: middle;\n",
       "    }\n",
       "\n",
       "    .dataframe tbody tr th {\n",
       "        vertical-align: top;\n",
       "    }\n",
       "\n",
       "    .dataframe thead th {\n",
       "        text-align: right;\n",
       "    }\n",
       "</style>\n",
       "<table border=\"1\" class=\"dataframe\">\n",
       "  <thead>\n",
       "    <tr style=\"text-align: right;\">\n",
       "      <th></th>\n",
       "      <th>batch</th>\n",
       "      <th>id</th>\n",
       "      <th>dry weight</th>\n",
       "      <th>immersed weight</th>\n",
       "      <th>soaked weight</th>\n",
       "      <th>run</th>\n",
       "    </tr>\n",
       "  </thead>\n",
       "  <tbody>\n",
       "    <tr>\n",
       "      <th>0</th>\n",
       "      <td>1</td>\n",
       "      <td>4.0</td>\n",
       "      <td>16.0628</td>\n",
       "      <td>14.3834</td>\n",
       "      <td>16.8908</td>\n",
       "      <td>1</td>\n",
       "    </tr>\n",
       "    <tr>\n",
       "      <th>1</th>\n",
       "      <td>1</td>\n",
       "      <td>4.0</td>\n",
       "      <td>16.0612</td>\n",
       "      <td>14.3735</td>\n",
       "      <td>16.8770</td>\n",
       "      <td>1</td>\n",
       "    </tr>\n",
       "    <tr>\n",
       "      <th>2</th>\n",
       "      <td>1</td>\n",
       "      <td>4.0</td>\n",
       "      <td>16.0562</td>\n",
       "      <td>14.3548</td>\n",
       "      <td>16.8385</td>\n",
       "      <td>1</td>\n",
       "    </tr>\n",
       "    <tr>\n",
       "      <th>3</th>\n",
       "      <td>2</td>\n",
       "      <td>2.0</td>\n",
       "      <td>16.7028</td>\n",
       "      <td>14.9509</td>\n",
       "      <td>17.5258</td>\n",
       "      <td>1</td>\n",
       "    </tr>\n",
       "    <tr>\n",
       "      <th>4</th>\n",
       "      <td>2</td>\n",
       "      <td>2.0</td>\n",
       "      <td>16.6986</td>\n",
       "      <td>14.9242</td>\n",
       "      <td>17.4925</td>\n",
       "      <td>1</td>\n",
       "    </tr>\n",
       "  </tbody>\n",
       "</table>\n",
       "</div>"
      ],
      "text/plain": [
       "   batch   id  dry weight  immersed weight  soaked weight  run\n",
       "0      1  4.0     16.0628          14.3834        16.8908    1\n",
       "1      1  4.0     16.0612          14.3735        16.8770    1\n",
       "2      1  4.0     16.0562          14.3548        16.8385    1\n",
       "3      2  2.0     16.7028          14.9509        17.5258    1\n",
       "4      2  2.0     16.6986          14.9242        17.4925    1"
      ]
     },
     "execution_count": 8,
     "metadata": {},
     "output_type": "execute_result"
    }
   ],
   "source": [
    "archimedes.head()"
   ]
  },
  {
   "cell_type": "code",
   "execution_count": 9,
   "metadata": {},
   "outputs": [],
   "source": [
    "\n",
    "liq_den = 783.8\n",
    "ss316 = 8000\n",
    "\n",
    "density = archimedes['dry weight']/(archimedes['soaked weight']-archimedes['immersed weight'])*liq_den/ss316"
   ]
  },
  {
   "cell_type": "code",
   "execution_count": 10,
   "metadata": {},
   "outputs": [],
   "source": [
    "\n",
    "density_data = archimedes.loc[:,['batch']]\n",
    "density_data['density'] = density"
   ]
  },
  {
   "cell_type": "code",
   "execution_count": 11,
   "metadata": {},
   "outputs": [],
   "source": [
    "density_data = density_data.join(doe.set_index('batch'), on='batch')"
   ]
  },
  {
   "cell_type": "code",
   "execution_count": 12,
   "metadata": {},
   "outputs": [
    {
     "data": {
      "text/html": [
       "<div>\n",
       "<style scoped>\n",
       "    .dataframe tbody tr th:only-of-type {\n",
       "        vertical-align: middle;\n",
       "    }\n",
       "\n",
       "    .dataframe tbody tr th {\n",
       "        vertical-align: top;\n",
       "    }\n",
       "\n",
       "    .dataframe thead th {\n",
       "        text-align: right;\n",
       "    }\n",
       "</style>\n",
       "<table border=\"1\" class=\"dataframe\">\n",
       "  <thead>\n",
       "    <tr style=\"text-align: right;\">\n",
       "      <th></th>\n",
       "      <th>batch</th>\n",
       "      <th>density</th>\n",
       "      <th>layer_thickness</th>\n",
       "      <th>Oscillator</th>\n",
       "      <th>Recoat Speed</th>\n",
       "      <th>roller_speed</th>\n",
       "      <th>roller_rpm</th>\n",
       "      <th>drying speed</th>\n",
       "      <th>drying_power</th>\n",
       "      <th>saturation</th>\n",
       "      <th>binder_set_time</th>\n",
       "    </tr>\n",
       "  </thead>\n",
       "  <tbody>\n",
       "    <tr>\n",
       "      <th>0</th>\n",
       "      <td>1</td>\n",
       "      <td>0.627643</td>\n",
       "      <td>170.950131</td>\n",
       "      <td>1967.331486</td>\n",
       "      <td>78.906433</td>\n",
       "      <td>4.325408</td>\n",
       "      <td>195.740100</td>\n",
       "      <td>8.975193</td>\n",
       "      <td>57.789017</td>\n",
       "      <td>59.215849</td>\n",
       "      <td>4.682984</td>\n",
       "    </tr>\n",
       "    <tr>\n",
       "      <th>1</th>\n",
       "      <td>1</td>\n",
       "      <td>0.628558</td>\n",
       "      <td>170.950131</td>\n",
       "      <td>1967.331486</td>\n",
       "      <td>78.906433</td>\n",
       "      <td>4.325408</td>\n",
       "      <td>195.740100</td>\n",
       "      <td>8.975193</td>\n",
       "      <td>57.789017</td>\n",
       "      <td>59.215849</td>\n",
       "      <td>4.682984</td>\n",
       "    </tr>\n",
       "    <tr>\n",
       "      <th>2</th>\n",
       "      <td>1</td>\n",
       "      <td>0.633372</td>\n",
       "      <td>170.950131</td>\n",
       "      <td>1967.331486</td>\n",
       "      <td>78.906433</td>\n",
       "      <td>4.325408</td>\n",
       "      <td>195.740100</td>\n",
       "      <td>8.975193</td>\n",
       "      <td>57.789017</td>\n",
       "      <td>59.215849</td>\n",
       "      <td>4.682984</td>\n",
       "    </tr>\n",
       "    <tr>\n",
       "      <th>3</th>\n",
       "      <td>2</td>\n",
       "      <td>0.635542</td>\n",
       "      <td>218.833816</td>\n",
       "      <td>2059.599336</td>\n",
       "      <td>61.607811</td>\n",
       "      <td>3.001314</td>\n",
       "      <td>277.268534</td>\n",
       "      <td>16.391061</td>\n",
       "      <td>59.744374</td>\n",
       "      <td>89.594092</td>\n",
       "      <td>9.374743</td>\n",
       "    </tr>\n",
       "    <tr>\n",
       "      <th>4</th>\n",
       "      <td>2</td>\n",
       "      <td>0.637015</td>\n",
       "      <td>218.833816</td>\n",
       "      <td>2059.599336</td>\n",
       "      <td>61.607811</td>\n",
       "      <td>3.001314</td>\n",
       "      <td>277.268534</td>\n",
       "      <td>16.391061</td>\n",
       "      <td>59.744374</td>\n",
       "      <td>89.594092</td>\n",
       "      <td>9.374743</td>\n",
       "    </tr>\n",
       "  </tbody>\n",
       "</table>\n",
       "</div>"
      ],
      "text/plain": [
       "   batch   density  layer_thickness   Oscillator  Recoat Speed  roller_speed  \\\n",
       "0      1  0.627643       170.950131  1967.331486     78.906433      4.325408   \n",
       "1      1  0.628558       170.950131  1967.331486     78.906433      4.325408   \n",
       "2      1  0.633372       170.950131  1967.331486     78.906433      4.325408   \n",
       "3      2  0.635542       218.833816  2059.599336     61.607811      3.001314   \n",
       "4      2  0.637015       218.833816  2059.599336     61.607811      3.001314   \n",
       "\n",
       "   roller_rpm  drying speed  drying_power  saturation  binder_set_time  \n",
       "0  195.740100      8.975193     57.789017   59.215849         4.682984  \n",
       "1  195.740100      8.975193     57.789017   59.215849         4.682984  \n",
       "2  195.740100      8.975193     57.789017   59.215849         4.682984  \n",
       "3  277.268534     16.391061     59.744374   89.594092         9.374743  \n",
       "4  277.268534     16.391061     59.744374   89.594092         9.374743  "
      ]
     },
     "execution_count": 12,
     "metadata": {},
     "output_type": "execute_result"
    }
   ],
   "source": [
    "density_data.head()"
   ]
  },
  {
   "cell_type": "code",
   "execution_count": 13,
   "metadata": {},
   "outputs": [],
   "source": [
    "settings = doe.columns[1:]"
   ]
  },
  {
   "cell_type": "code",
   "execution_count": 14,
   "metadata": {},
   "outputs": [
    {
     "data": {
      "text/plain": [
       "Index(['layer_thickness', 'Oscillator', 'Recoat Speed', 'roller_speed',\n",
       "       'roller_rpm', 'drying speed', 'drying_power', 'saturation',\n",
       "       'binder_set_time'],\n",
       "      dtype='object')"
      ]
     },
     "execution_count": 14,
     "metadata": {},
     "output_type": "execute_result"
    }
   ],
   "source": [
    "settings"
   ]
  },
  {
   "cell_type": "code",
   "execution_count": 15,
   "metadata": {},
   "outputs": [
    {
     "data": {
      "image/png": "[encoded data removed]",
      "text/plain": [
       "<Figure size 720x720 with 9 Axes>"
      ]
     },
     "metadata": {
      "needs_background": "light"
     },
     "output_type": "display_data"
    }
   ],
   "source": [
    "fig, axs = plt.subplots(3,3, figsize = (10,10))\n",
    "\n",
    "for ax,param in zip(axs.flatten(),settings):\n",
    "    sns.scatterplot(x = param, y = 'density', data = density_data,ax= ax)\n",
    "    ax.set_title('Density vs {}'.format(param))\n",
    "\n",
    "plt.tight_layout()\n",
    "plt.show()"
   ]
  },
  {
   "cell_type": "code",
   "execution_count": 18,
   "metadata": {},
   "outputs": [],
   "source": [
    "dimension = pd.read_excel(path.join(folder_path, 'process_map_data.xlsx'),\n",
    "                                 header = 0, usecols = 'A:E')"
   ]
  },
  {
   "cell_type": "code",
   "execution_count": 19,
   "metadata": {},
   "outputs": [],
   "source": [
    "dimension['x'] = abs(dimension['x'] - 20.0)\n",
    "dimension['y'] = abs(dimension['y'] - 15.0)\n",
    "dimension['z'] = abs(dimension['z'] - 10.0)"
   ]
  },
  {
   "cell_type": "code",
   "execution_count": 20,
   "metadata": {},
   "outputs": [
    {
     "data": {
      "text/html": [
       "<div>\n",
       "<style scoped>\n",
       "    .dataframe tbody tr th:only-of-type {\n",
       "        vertical-align: middle;\n",
       "    }\n",
       "\n",
       "    .dataframe tbody tr th {\n",
       "        vertical-align: top;\n",
       "    }\n",
       "\n",
       "    .dataframe thead th {\n",
       "        text-align: right;\n",
       "    }\n",
       "</style>\n",
       "<table border=\"1\" class=\"dataframe\">\n",
       "  <thead>\n",
       "    <tr style=\"text-align: right;\">\n",
       "      <th></th>\n",
       "      <th>batch</th>\n",
       "      <th>id</th>\n",
       "      <th>x</th>\n",
       "      <th>y</th>\n",
       "      <th>z</th>\n",
       "    </tr>\n",
       "  </thead>\n",
       "  <tbody>\n",
       "    <tr>\n",
       "      <th>0</th>\n",
       "      <td>1</td>\n",
       "      <td>1</td>\n",
       "      <td>0.47</td>\n",
       "      <td>0.45</td>\n",
       "      <td>0.49</td>\n",
       "    </tr>\n",
       "    <tr>\n",
       "      <th>1</th>\n",
       "      <td>1</td>\n",
       "      <td>1</td>\n",
       "      <td>0.41</td>\n",
       "      <td>0.29</td>\n",
       "      <td>0.37</td>\n",
       "    </tr>\n",
       "    <tr>\n",
       "      <th>2</th>\n",
       "      <td>1</td>\n",
       "      <td>1</td>\n",
       "      <td>0.68</td>\n",
       "      <td>0.52</td>\n",
       "      <td>0.46</td>\n",
       "    </tr>\n",
       "    <tr>\n",
       "      <th>3</th>\n",
       "      <td>1</td>\n",
       "      <td>2</td>\n",
       "      <td>0.37</td>\n",
       "      <td>0.46</td>\n",
       "      <td>0.34</td>\n",
       "    </tr>\n",
       "    <tr>\n",
       "      <th>4</th>\n",
       "      <td>1</td>\n",
       "      <td>2</td>\n",
       "      <td>0.31</td>\n",
       "      <td>0.48</td>\n",
       "      <td>0.32</td>\n",
       "    </tr>\n",
       "  </tbody>\n",
       "</table>\n",
       "</div>"
      ],
      "text/plain": [
       "   batch  id     x     y     z\n",
       "0      1   1  0.47  0.45  0.49\n",
       "1      1   1  0.41  0.29  0.37\n",
       "2      1   1  0.68  0.52  0.46\n",
       "3      1   2  0.37  0.46  0.34\n",
       "4      1   2  0.31  0.48  0.32"
      ]
     },
     "execution_count": 20,
     "metadata": {},
     "output_type": "execute_result"
    }
   ],
   "source": [
    "dimension.head()"
   ]
  },
  {
   "cell_type": "code",
   "execution_count": 21,
   "metadata": {},
   "outputs": [],
   "source": [
    "max_agg = dimension.groupby(['batch','id']).max()"
   ]
  },
  {
   "cell_type": "code",
   "execution_count": 22,
   "metadata": {},
   "outputs": [],
   "source": [
    "max_agg = max_agg.join(doe.set_index('batch'), on='batch')"
   ]
  },
  {
   "cell_type": "code",
   "execution_count": 23,
   "metadata": {},
   "outputs": [
    {
     "data": {
      "text/html": [
       "<div>\n",
       "<style scoped>\n",
       "    .dataframe tbody tr th:only-of-type {\n",
       "        vertical-align: middle;\n",
       "    }\n",
       "\n",
       "    .dataframe tbody tr th {\n",
       "        vertical-align: top;\n",
       "    }\n",
       "\n",
       "    .dataframe thead th {\n",
       "        text-align: right;\n",
       "    }\n",
       "</style>\n",
       "<table border=\"1\" class=\"dataframe\">\n",
       "  <thead>\n",
       "    <tr style=\"text-align: right;\">\n",
       "      <th></th>\n",
       "      <th></th>\n",
       "      <th>x</th>\n",
       "      <th>y</th>\n",
       "      <th>z</th>\n",
       "      <th>layer_thickness</th>\n",
       "      <th>Oscillator</th>\n",
       "      <th>Recoat Speed</th>\n",
       "      <th>roller_speed</th>\n",
       "      <th>roller_rpm</th>\n",
       "      <th>drying speed</th>\n",
       "      <th>drying_power</th>\n",
       "      <th>saturation</th>\n",
       "      <th>binder_set_time</th>\n",
       "    </tr>\n",
       "    <tr>\n",
       "      <th>batch</th>\n",
       "      <th>id</th>\n",
       "      <th></th>\n",
       "      <th></th>\n",
       "      <th></th>\n",
       "      <th></th>\n",
       "      <th></th>\n",
       "      <th></th>\n",
       "      <th></th>\n",
       "      <th></th>\n",
       "      <th></th>\n",
       "      <th></th>\n",
       "      <th></th>\n",
       "      <th></th>\n",
       "    </tr>\n",
       "  </thead>\n",
       "  <tbody>\n",
       "    <tr>\n",
       "      <th rowspan=\"5\" valign=\"top\">1</th>\n",
       "      <th>1</th>\n",
       "      <td>0.68</td>\n",
       "      <td>0.52</td>\n",
       "      <td>0.49</td>\n",
       "      <td>170.950131</td>\n",
       "      <td>1967.331486</td>\n",
       "      <td>78.906433</td>\n",
       "      <td>4.325408</td>\n",
       "      <td>195.7401</td>\n",
       "      <td>8.975193</td>\n",
       "      <td>57.789017</td>\n",
       "      <td>59.215849</td>\n",
       "      <td>4.682984</td>\n",
       "    </tr>\n",
       "    <tr>\n",
       "      <th>2</th>\n",
       "      <td>0.64</td>\n",
       "      <td>0.61</td>\n",
       "      <td>0.34</td>\n",
       "      <td>170.950131</td>\n",
       "      <td>1967.331486</td>\n",
       "      <td>78.906433</td>\n",
       "      <td>4.325408</td>\n",
       "      <td>195.7401</td>\n",
       "      <td>8.975193</td>\n",
       "      <td>57.789017</td>\n",
       "      <td>59.215849</td>\n",
       "      <td>4.682984</td>\n",
       "    </tr>\n",
       "    <tr>\n",
       "      <th>3</th>\n",
       "      <td>0.68</td>\n",
       "      <td>0.47</td>\n",
       "      <td>0.47</td>\n",
       "      <td>170.950131</td>\n",
       "      <td>1967.331486</td>\n",
       "      <td>78.906433</td>\n",
       "      <td>4.325408</td>\n",
       "      <td>195.7401</td>\n",
       "      <td>8.975193</td>\n",
       "      <td>57.789017</td>\n",
       "      <td>59.215849</td>\n",
       "      <td>4.682984</td>\n",
       "    </tr>\n",
       "    <tr>\n",
       "      <th>4</th>\n",
       "      <td>0.99</td>\n",
       "      <td>0.72</td>\n",
       "      <td>0.46</td>\n",
       "      <td>170.950131</td>\n",
       "      <td>1967.331486</td>\n",
       "      <td>78.906433</td>\n",
       "      <td>4.325408</td>\n",
       "      <td>195.7401</td>\n",
       "      <td>8.975193</td>\n",
       "      <td>57.789017</td>\n",
       "      <td>59.215849</td>\n",
       "      <td>4.682984</td>\n",
       "    </tr>\n",
       "    <tr>\n",
       "      <th>5</th>\n",
       "      <td>0.67</td>\n",
       "      <td>0.41</td>\n",
       "      <td>0.44</td>\n",
       "      <td>170.950131</td>\n",
       "      <td>1967.331486</td>\n",
       "      <td>78.906433</td>\n",
       "      <td>4.325408</td>\n",
       "      <td>195.7401</td>\n",
       "      <td>8.975193</td>\n",
       "      <td>57.789017</td>\n",
       "      <td>59.215849</td>\n",
       "      <td>4.682984</td>\n",
       "    </tr>\n",
       "  </tbody>\n",
       "</table>\n",
       "</div>"
      ],
      "text/plain": [
       "             x     y     z  layer_thickness   Oscillator  Recoat Speed  \\\n",
       "batch id                                                                 \n",
       "1     1   0.68  0.52  0.49       170.950131  1967.331486     78.906433   \n",
       "      2   0.64  0.61  0.34       170.950131  1967.331486     78.906433   \n",
       "      3   0.68  0.47  0.47       170.950131  1967.331486     78.906433   \n",
       "      4   0.99  0.72  0.46       170.950131  1967.331486     78.906433   \n",
       "      5   0.67  0.41  0.44       170.950131  1967.331486     78.906433   \n",
       "\n",
       "          roller_speed  roller_rpm  drying speed  drying_power  saturation  \\\n",
       "batch id                                                                     \n",
       "1     1       4.325408    195.7401      8.975193     57.789017   59.215849   \n",
       "      2       4.325408    195.7401      8.975193     57.789017   59.215849   \n",
       "      3       4.325408    195.7401      8.975193     57.789017   59.215849   \n",
       "      4       4.325408    195.7401      8.975193     57.789017   59.215849   \n",
       "      5       4.325408    195.7401      8.975193     57.789017   59.215849   \n",
       "\n",
       "          binder_set_time  \n",
       "batch id                   \n",
       "1     1          4.682984  \n",
       "      2          4.682984  \n",
       "      3          4.682984  \n",
       "      4          4.682984  \n",
       "      5          4.682984  "
      ]
     },
     "execution_count": 23,
     "metadata": {},
     "output_type": "execute_result"
    }
   ],
   "source": [
    "max_agg.head()"
   ]
  },
  {
   "cell_type": "code",
   "execution_count": 24,
   "metadata": {},
   "outputs": [
    {
     "data": {
      "image/png": "[encoded data removed]",
      "text/plain": [
       "<Figure size 720x720 with 9 Axes>"
      ]
     },
     "metadata": {
      "needs_background": "light"
     },
     "output_type": "display_data"
    }
   ],
   "source": [
    "fig, axs = plt.subplots(3,3, figsize = (10,10))\n",
    "\n",
    "for ax,param in zip(axs.flatten(),settings):\n",
    "    ax.plot(max_agg[param],max_agg['x'],'.')\n",
    "    ax.set_title('x vs {}'.format(param))\n",
    "\n",
    "plt.show()"
   ]
  },
  {
   "cell_type": "code",
   "execution_count": 25,
   "metadata": {},
   "outputs": [
    {
     "data": {
      "image/png": "[encoded data removed]",
      "text/plain": [
       "<Figure size 720x720 with 9 Axes>"
      ]
     },
     "metadata": {
      "needs_background": "light"
     },
     "output_type": "display_data"
    }
   ],
   "source": [
    "fig, axs = plt.subplots(3,3, figsize = (10,10))\n",
    "\n",
    "for ax,param in zip(axs.flatten(),settings):\n",
    "    ax.plot(max_agg[param],max_agg['y'],'.')\n",
    "    ax.set_title('y vs {}'.format(param))\n",
    "\n",
    "plt.show()"
   ]
  },
  {
   "cell_type": "code",
   "execution_count": 26,
   "metadata": {},
   "outputs": [
    {
     "data": {
      "image/png": "[encoded data removed]",
      "text/plain": [
       "<Figure size 720x720 with 9 Axes>"
      ]
     },
     "metadata": {
      "needs_background": "light"
     },
     "output_type": "display_data"
    }
   ],
   "source": [
    "fig, axs = plt.subplots(3,3, figsize = (10,10))\n",
    "\n",
    "for ax,param in zip(axs.flatten(),settings):\n",
    "    ax.plot(max_agg[param],max_agg['z'],'.')\n",
    "    ax.set_title('z vs {}'.format(param))\n",
    "\n",
    "plt.show()"
   ]
  },
  {
   "cell_type": "code",
   "execution_count": null,
   "metadata": {},
   "outputs": [],
   "source": []
  },
  {
   "cell_type": "code",
   "execution_count": null,
   "metadata": {},
   "outputs": [],
   "source": [
    "import sklearn.gaussian_process as gp\n",
    "import optuna\n",
    "from sklearn.model_selection import cross_val_score\n",
    "\n",
    "data = archimedes.iloc[:,6:].to_numpy()"
   ]
  },
  {
   "cell_type": "code",
   "execution_count": null,
   "metadata": {},
   "outputs": [],
   "source": [
    "from sklearn import preprocessing\n",
    "\n",
    "x_min_max_scaler = preprocessing.MinMaxScaler()\n",
    "X_scaled = x_min_max_scaler.fit_transform(data[:,1:])\n",
    "y = data[:,0]"
   ]
  },
  {
   "cell_type": "code",
   "execution_count": null,
   "metadata": {},
   "outputs": [],
   "source": [
    "def gp_hyp_tuning(X, y):\n",
    "    def objective(trial):\n",
    "\n",
    "        ct = trial.suggest_uniform('constant kernel', 1e-3, 1.0)\n",
    "        ls = trial.suggest_uniform('length scale', 1e-1, 150)\n",
    "        nu = trial.suggest_uniform('nu', 1.0, 3.0)\n",
    "        noise = trial.suggest_uniform('noise', 1e-5, 1.0)\n",
    "        \n",
    "        kernel = gp.kernels.ConstantKernel(ct)*gp.kernels.Matern(length_scale=ls, length_scale_bounds=(1e-1, 10000), nu=nu)\n",
    "        regressor = gp.GaussianProcessRegressor(kernel=kernel, alpha = noise**2, n_restarts_optimizer=50)\n",
    "        \n",
    "        cross_val = cross_val_score(regressor, X, y, cv = 10)\n",
    "        \n",
    "        trial.set_user_attr('std', np.std(cross_val))\n",
    "        \n",
    "        return np.mean(cross_val)\n",
    "    return objective\n",
    "\n",
    "\n",
    "hype_tune_func = gp_hyp_tuning(X_scaled, y)"
   ]
  },
  {
   "cell_type": "code",
   "execution_count": null,
   "metadata": {},
   "outputs": [],
   "source": [
    "from sqlalchemy import create_engine\n",
    "\n",
    "optuna.logging.set_verbosity(optuna.logging.WARNING)\n",
    "\n",
    "study = optuna.create_study(study_name='hype tune gp', direction='maximize', \n",
    "                            storage = 'sqlite:///data/hyp_tune.db',\n",
    "                           load_if_exists=True)\n",
    "\n"
   ]
  },
  {
   "cell_type": "code",
   "execution_count": null,
   "metadata": {},
   "outputs": [],
   "source": [
    "study.optimize(hype_tune_func, n_trials=100, n_jobs = 1)"
   ]
  },
  {
   "cell_type": "code",
   "execution_count": null,
   "metadata": {},
   "outputs": [],
   "source": [
    "study.best_trial"
   ]
  },
  {
   "cell_type": "code",
   "execution_count": null,
   "metadata": {},
   "outputs": [],
   "source": [
    "study.best_trial.params"
   ]
  },
  {
   "cell_type": "code",
   "execution_count": null,
   "metadata": {},
   "outputs": [],
   "source": [
    "from sklearn.model_selection import train_test_split\n",
    "\n",
    "def create_regressor(trial):\n",
    "    param = trial.params\n",
    "    ct = param['constant kernel']\n",
    "    ls = param['length scale']\n",
    "    noise = param['noise']\n",
    "    nu = param['nu']\n",
    "    \n",
    "    kernel = gp.kernels.ConstantKernel(ct)*gp.kernels.Matern(length_scale=ls, length_scale_bounds=(1e-1, 10000), nu=nu)\n",
    "    regressor = gp.GaussianProcessRegressor(kernel=kernel, alpha = noise**2, n_restarts_optimizer=50)\n",
    "    \n",
    "    return regressor\n",
    "\n",
    "X_train, X_test, y_train, y_test = train_test_split(X_scaled, y)\n",
    "\n",
    "optimal_regressor = create_regressor(study.best_trial)\n",
    "\n",
    "optimal_regressor.fit(X_train,y_train)\n",
    "\n",
    "pred_all, pred_std = optimal_regressor.predict(X_scaled, return_std = True)"
   ]
  },
  {
   "cell_type": "code",
   "execution_count": null,
   "metadata": {},
   "outputs": [],
   "source": [
    "R_train_score = optimal_regressor.score(X_train, y_train)\n",
    "R_test_score = optimal_regressor.score(X_test, y_test)\n",
    "\n",
    "print(\"R**2 train : {}\".format(R_train_score))\n",
    "print(\"R**2 test : {}\".format(R_test_score))"
   ]
  },
  {
   "cell_type": "code",
   "execution_count": null,
   "metadata": {},
   "outputs": [],
   "source": [
    "\n",
    "fig, axs = plt.subplots(3,3, figsize = (10,10))\n",
    "for i, ax in enumerate(axs.ravel()):\n",
    "    param = settings[i]\n",
    "    ax.errorbar(data[:,i+1],pred_all, yerr = pred_std, \n",
    "                label = 'predicted', linestyle='None', marker='*')\n",
    "    ax.plot(data[:,i+1],data[:,0], 'r*', label = 'true',\n",
    "           alpha = 0.1)\n",
    "    ax.legend()\n",
    "    ax.set_title('density vs {}'.format(param))\n",
    "plt.show()"
   ]
  },
  {
   "cell_type": "code",
   "execution_count": null,
   "metadata": {},
   "outputs": [],
   "source": [
    "def gp_to_maximize( regressor, scaler):\n",
    "    \n",
    "    def objective(trial):\n",
    "        x = [[\n",
    "            trial.suggest_uniform('layer_thickness', 100, 250),\n",
    "            trial.suggest_uniform('oscillator', 1000, 2500),\n",
    "            trial.suggest_uniform('recoat speed', 30, 100),\n",
    "            trial.suggest_uniform('roller speed', 3, 30),\n",
    "            trial.suggest_uniform('roller rpm', 80, 300),\n",
    "            trial.suggest_uniform('drying speed', 5, 40),\n",
    "            trial.suggest_uniform('drying powder', 20, 100),\n",
    "            trial.suggest_uniform('saturation', 50,100),\n",
    "            trial.suggest_uniform('bst', 0, 15)\n",
    "        ]]\n",
    "        \n",
    "        x_scaled = scaler.transform(x)\n",
    "        \n",
    "        pred, std = regressor.predict(x_scaled, return_std = True)\n",
    "        \n",
    "        return pred\n",
    "    return objective\n",
    "\n",
    "\n",
    "obj_func = gp_to_maximize(optimal_regressor, x_min_max_scaler)"
   ]
  },
  {
   "cell_type": "code",
   "execution_count": null,
   "metadata": {},
   "outputs": [],
   "source": [
    "study_probe = optuna.create_study(study_name='probe gp', direction='maximize', \n",
    "                            storage = 'sqlite:///data/optuna.db',\n",
    "                           load_if_exists=True)\n",
    "\n",
    "study_probe.optimize(obj_func, n_trials=10)"
   ]
  },
  {
   "cell_type": "code",
   "execution_count": null,
   "metadata": {},
   "outputs": [],
   "source": [
    "study_probe.best_trial"
   ]
  },
  {
   "cell_type": "code",
   "execution_count": null,
   "metadata": {},
   "outputs": [],
   "source": [
    "test = [[50.0, 2100.0, 57.0, 3.5, 300.0, 6.2, 33, 92.0, 8.2]]\n",
    "print(optimal_regressor.predict(test, return_std = True))"
   ]
  }
 ],
 "metadata": {
  "kernelspec": {
   "display_name": "Python 3",
   "language": "python",
   "name": "python3"
  },
  "language_info": {
   "codemirror_mode": {
    "name": "ipython",
    "version": 3
   },
   "file_extension": ".py",
   "mimetype": "text/x-python",
   "name": "python",
   "nbconvert_exporter": "python",
   "pygments_lexer": "ipython3",
   "version": "3.7.7"
  }
 },
 "nbformat": 4,
 "nbformat_minor": 2
}
